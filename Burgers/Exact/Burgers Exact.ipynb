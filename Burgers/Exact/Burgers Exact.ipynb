{
 "cells": [
  {
   "cell_type": "code",
   "execution_count": 16,
   "id": "55c510a8",
   "metadata": {},
   "outputs": [],
   "source": [
    "from scipy.integrate import quad,quadrature,nquad\n",
    "import numpy as np\n",
    "import matplotlib.pyplot as plt"
   ]
  },
  {
   "cell_type": "code",
   "execution_count": 12,
   "id": "d5ac12d2",
   "metadata": {},
   "outputs": [],
   "source": [
    "#nu=0.01/np.pi\n",
    "nu=0.001"
   ]
  },
  {
   "cell_type": "code",
   "execution_count": 13,
   "id": "7ca0b47f",
   "metadata": {},
   "outputs": [
    {
     "data": {
      "text/plain": [
       "'\\ndef sin(x,y):\\n    return np.sin(x-y)\\n\\ndef int_sin(y):\\n    return quad(sin, 0, np.pi/2, args=(y))[0]\\n'"
      ]
     },
     "execution_count": 13,
     "metadata": {},
     "output_type": "execute_result"
    }
   ],
   "source": [
    "# scipy quad integrates with respect to the FIRST variable\n",
    "# test with integral of sin(x-y) from 0 to pi/2\n",
    "\"\"\"\n",
    "def sin(x,y):\n",
    "    return np.sin(x-y)\n",
    "\n",
    "def int_sin(y):\n",
    "    return quad(sin, 0, np.pi/2, args=(y))[0]\n",
    "\"\"\"\n",
    "#int_sin(0.3)\n",
    "# this gives 0.6598, which is correct"
   ]
  },
  {
   "cell_type": "code",
   "execution_count": 34,
   "id": "e956b2b9",
   "metadata": {},
   "outputs": [],
   "source": [
    "# Now we do Burgers equation\n",
    "# we always integrate over y\n",
    "\n",
    "# First do denominator\n",
    "\n",
    "def ker(y,t):\n",
    "    return np.exp(- y*y / (4*nu*t))\n",
    "\n",
    "def f(y,x,t):\n",
    "    return np.exp(-np.cos(np.pi*(x-y))/(2*np.pi*nu))\n",
    "\n",
    "def integrand_d(y,x,t):\n",
    "    return f(y,x,t)*ker(y,t)\n",
    "\n",
    "def denominator(x,t):\n",
    "    return quad(integrand_d, -np.inf, np.inf, args=(x,t),limit=100)[0]\n",
    "    #return quad(integrand_d, -1000., 1000., args=(x,t),limit=100)[0]\n",
    "    #return quadrature(integrand_d, -10., 10., args=(x,t))[0]\n",
    "# Now the numerator\n",
    "\n",
    "def sin(y,x):\n",
    "    return np.sin(np.pi*(x-y))\n",
    "\n",
    "def integrand_n(y,x,t):\n",
    "    return sin(y,x)*f(y,x,t)*ker(y,t)\n",
    "\n",
    "def numerator(x,t):\n",
    "    return quad(integrand_n, -np.inf, np.inf, args=(x,t),limit=100)[0]\n",
    "    #return quad(integrand_n, -1000., 1000., args=(x,t),limit=100)[0]\n",
    "    #return quadrature(integrand_n, -10., 10., args=(x,t))[0]\n",
    "\n",
    "\n",
    "def u(x,t):\n",
    "    return -numerator(x,t)/denominator(x,t)\n",
    "    "
   ]
  },
  {
   "cell_type": "code",
   "execution_count": 36,
   "id": "b8896a13",
   "metadata": {},
   "outputs": [
    {
     "name": "stderr",
     "output_type": "stream",
     "text": [
      "/var/folders/58/3s7j46gx4t50mdq4tzm0t9gw0000gn/T/ipykernel_6668/1887603160.py:28: IntegrationWarning: The integral is probably divergent, or slowly convergent.\n",
      "  return quad(integrand_n, -np.inf, np.inf, args=(x,t),limit=100)[0]\n",
      "/var/folders/58/3s7j46gx4t50mdq4tzm0t9gw0000gn/T/ipykernel_6668/1887603160.py:28: IntegrationWarning: The maximum number of subdivisions (100) has been achieved.\n",
      "  If increasing the limit yields no improvement it is advised to analyze \n",
      "  the integrand in order to determine the difficulties.  If the position of a \n",
      "  local difficulty can be determined (singularity, discontinuity) one will \n",
      "  probably gain from splitting up the interval and calling the integrator \n",
      "  on the subranges.  Perhaps a special-purpose integrator should be used.\n",
      "  return quad(integrand_n, -np.inf, np.inf, args=(x,t),limit=100)[0]\n"
     ]
    },
    {
     "data": {
      "text/plain": [
       "[<matplotlib.lines.Line2D at 0x7f87294f0460>]"
      ]
     },
     "execution_count": 36,
     "metadata": {},
     "output_type": "execute_result"
    },
    {
     "data": {
      "image/png": "[encoded data removed]",
      "text/plain": [
       "<Figure size 432x288 with 1 Axes>"
      ]
     },
     "metadata": {
      "needs_background": "light"
     },
     "output_type": "display_data"
    }
   ],
   "source": [
    "t=0.75\n",
    "u_list=[]\n",
    "for x in np.arange(-1,1.01,0.01):\n",
    "    u_list.append(u(x,t))\n",
    "\n",
    "plt.plot(np.arange(-1,1.01,0.01), u_list)\n"
   ]
  },
  {
   "cell_type": "code",
   "execution_count": null,
   "id": "3ab06fad",
   "metadata": {},
   "outputs": [],
   "source": []
  }
 ],
 "metadata": {
  "kernelspec": {
   "display_name": "Python 3 (ipykernel)",
   "language": "python",
   "name": "python3"
  },
  "language_info": {
   "codemirror_mode": {
    "name": "ipython",
    "version": 3
   },
   "file_extension": ".py",
   "mimetype": "text/x-python",
   "name": "python",
   "nbconvert_exporter": "python",
   "pygments_lexer": "ipython3",
   "version": "3.9.7"
  }
 },
 "nbformat": 4,
 "nbformat_minor": 5
}
